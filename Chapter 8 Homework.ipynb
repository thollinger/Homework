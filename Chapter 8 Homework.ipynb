{
 "cells": [
  {
   "cell_type": "markdown",
   "metadata": {},
   "source": [
    "## Exercise 3 (p.332, Chap.8), 5 (p.332, Chap.8), 8 (p.333, Chap.8), 9 (p.334, Chap.8) and 10 (p.334, Chap.8)"
   ]
  },
  {
   "cell_type": "code",
   "execution_count": 8,
   "metadata": {},
   "outputs": [
    {
     "data": {
      "image/png": "[encoded data removed]",
      "text/plain": [
       "plot without title"
      ]
     },
     "metadata": {},
     "output_type": "display_data"
    }
   ],
   "source": [
    "#Exercise 3\n",
    "p = seq(0, 1, 0.05)\n",
    "gini = p * (1 - p) * 2\n",
    "entropy = -(p * log(p) + (1 - p) * log(1 - p))\n",
    "class.err = 1 - pmax(p, 1 - p)\n",
    "matplot(p, cbind(gini, entropy, class.err), col = c(\"red\"))"
   ]
  },
  {
   "cell_type": "markdown",
   "metadata": {},
   "source": [
    "### Exercise 5\n",
    "Suppose we produce ten bootstrapped samples from a data set\n",
    "containing red and green classes. We then apply a classification tree\n",
    "to each bootstrapped sample and, for a specific value of X, produce\n",
    "10 estimates of P(Class is Red|X):\n",
    "0.1, 0.15, 0.2, 0.2, 0.55, 0.6, 0.6, 0.65, 0.7, and 0.75.\n",
    "There are two common ways to combine these results together into a\n",
    "single class prediction. One is the majority vote approach discussed in\n",
    "this chapter. The second approach is to classify based on the average\n",
    "probability. In this example, what is the final classification under each\n",
    "of these two approaches?"
   ]
  },
  {
   "cell_type": "code",
   "execution_count": 13,
   "metadata": {},
   "outputs": [
    {
     "data": {
      "text/html": [
       "0.45"
      ],
      "text/latex": [
       "0.45"
      ],
      "text/markdown": [
       "0.45"
      ],
      "text/plain": [
       "[1] 0.45"
      ]
     },
     "metadata": {},
     "output_type": "display_data"
    },
    {
     "data": {
      "text/html": [
       "TRUE"
      ],
      "text/latex": [
       "TRUE"
      ],
      "text/markdown": [
       "TRUE"
      ],
      "text/plain": [
       "[1] TRUE"
      ]
     },
     "metadata": {},
     "output_type": "display_data"
    }
   ],
   "source": [
    "p = c(0.1, 0.15, 0.2, 0.2, 0.55, 0.6, 0.6, 0.65, 0.7, 0.75)\n",
    "#mean\n",
    "mean(p)\n",
    "#majority\n",
    "sum(p >= 0.5) > sum(p < 0.5)"
   ]
  },
  {
   "cell_type": "markdown",
   "metadata": {},
   "source": [
    "#### Using the majority approach there are more red predictions than green.\n",
    "#### Using the mean approach there are more green predictions than red\n",
    "\n"
   ]
  },
  {
   "cell_type": "markdown",
   "metadata": {},
   "source": [
    "### Exercise 8\n",
    "In the lab, a classification tree was applied to the Carseats data set after\n",
    "converting Sales into a qualitative response variable. Now we will\n",
    "seek to predict Sales using regression trees and related approaches,\n",
    "treating the response as a quantitative variable."
   ]
  },
  {
   "cell_type": "code",
   "execution_count": 17,
   "metadata": {},
   "outputs": [
    {
     "name": "stdout",
     "output_type": "stream",
     "text": [
      "package 'ISLR' successfully unpacked and MD5 sums checked\n",
      "\n",
      "The downloaded binary packages are in\n",
      "\tC:\\Users\\Tholl\\AppData\\Local\\Temp\\RtmpuiDT2D\\downloaded_packages\n"
     ]
    },
    {
     "name": "stderr",
     "output_type": "stream",
     "text": [
      "Warning message:\n",
      "\"package 'ISLR' was built under R version 3.6.3\""
     ]
    }
   ],
   "source": [
    "# Part A Split the data set into a training set and a test set.\n",
    "install.packages('ISLR')\n",
    "library('ISLR')\n",
    "attach(Carseats)\n",
    "set.seed(1)\n",
    "\n",
    "train = sample(dim(Carseats)[1], dim(Carseats)[1]/2)\n",
    "Carseats.train = Carseats[train, ]\n",
    "Carseats.test = Carseats[-train, ]"
   ]
  },
  {
   "cell_type": "code",
   "execution_count": 22,
   "metadata": {},
   "outputs": [
    {
     "name": "stderr",
     "output_type": "stream",
     "text": [
      "Warning message:\n",
      "\"package 'tree' is in use and will not be installed\""
     ]
    },
    {
     "data": {
      "text/plain": [
       "\n",
       "Regression tree:\n",
       "tree(formula = Sales ~ ., data = Carseats.train)\n",
       "Variables actually used in tree construction:\n",
       "[1] \"ShelveLoc\"   \"Price\"       \"Age\"         \"Advertising\" \"CompPrice\"  \n",
       "[6] \"US\"         \n",
       "Number of terminal nodes:  18 \n",
       "Residual mean deviance:  2.167 = 394.3 / 182 \n",
       "Distribution of residuals:\n",
       "    Min.  1st Qu.   Median     Mean  3rd Qu.     Max. \n",
       "-3.88200 -0.88200 -0.08712  0.00000  0.89590  4.09900 "
      ]
     },
     "metadata": {},
     "output_type": "display_data"
    },
    {
     "data": {
      "text/html": [
       "4.92203909112416"
      ],
      "text/latex": [
       "4.92203909112416"
      ],
      "text/markdown": [
       "4.92203909112416"
      ],
      "text/plain": [
       "[1] 4.922039"
      ]
     },
     "metadata": {},
     "output_type": "display_data"
    }
   ],
   "source": [
    "#B Fit a regression tree to the training set. Plot the tree, and interpret\n",
    "#the results. What test MSE do you obtain?\n",
    "install.packages(\"tree\")\n",
    "library('tree')\n",
    "tree.carseats = tree(Sales ~ ., data = Carseats.train)\n",
    "summary(tree.carseats)\n",
    "pred.carseats = predict(tree.carseats, Carseats.test)\n",
    "mean((Carseats.test$Sales - pred.carseats)^2)"
   ]
  },
  {
   "cell_type": "markdown",
   "metadata": {},
   "source": [
    "#### our mse is 4.92"
   ]
  },
  {
   "cell_type": "code",
   "execution_count": 23,
   "metadata": {},
   "outputs": [
    {
     "data": {
      "image/png": "[encoded data removed]",
      "text/plain": [
       "plot without title"
      ]
     },
     "metadata": {},
     "output_type": "display_data"
    }
   ],
   "source": [
    "#Part C Use cross-validation in order to determine the optimal level of\n",
    "#tree complexity. Does pruning the tree improve the test MSE?\n",
    "\n",
    "cv.carseats = cv.tree(tree.carseats, FUN = prune.tree)\n",
    "par(mfrow = c(1, 2))\n",
    "plot(cv.carseats$size, cv.carseats$dev, type = \"b\")\n",
    "plot(cv.carseats$k, cv.carseats$dev, type = \"b\")\n"
   ]
  },
  {
   "cell_type": "code",
   "execution_count": 24,
   "metadata": {},
   "outputs": [
    {
     "data": {
      "image/png": "[encoded data removed]",
      "text/plain": [
       "plot without title"
      ]
     },
     "metadata": {},
     "output_type": "display_data"
    }
   ],
   "source": [
    "pruned.carseats = prune.tree(tree.carseats, best = 9)\n",
    "par(mfrow = c(1, 1))\n",
    "plot(pruned.carseats)\n",
    "text(pruned.carseats, pretty = 0)"
   ]
  },
  {
   "cell_type": "code",
   "execution_count": 25,
   "metadata": {},
   "outputs": [
    {
     "data": {
      "text/html": [
       "4.9181343772529"
      ],
      "text/latex": [
       "4.9181343772529"
      ],
      "text/markdown": [
       "4.9181343772529"
      ],
      "text/plain": [
       "[1] 4.918134"
      ]
     },
     "metadata": {},
     "output_type": "display_data"
    }
   ],
   "source": [
    "pred.pruned = predict(pruned.carseats, Carseats.test)\n",
    "mean((Carseats.test$Sales - pred.pruned)^2)"
   ]
  },
  {
   "cell_type": "markdown",
   "metadata": {},
   "source": [
    "#### our mse is slightly better at 4.918 after pruning"
   ]
  },
  {
   "cell_type": "code",
   "execution_count": 28,
   "metadata": {},
   "outputs": [
    {
     "name": "stdout",
     "output_type": "stream",
     "text": [
      "package 'randomForest' successfully unpacked and MD5 sums checked\n",
      "\n",
      "The downloaded binary packages are in\n",
      "\tC:\\Users\\Tholl\\AppData\\Local\\Temp\\RtmpuiDT2D\\downloaded_packages\n"
     ]
    },
    {
     "name": "stderr",
     "output_type": "stream",
     "text": [
      "Warning message:\n",
      "\"package 'randomForest' was built under R version 3.6.3\"randomForest 4.6-14\n",
      "Type rfNews() to see new features/changes/bug fixes.\n"
     ]
    }
   ],
   "source": [
    "#Part D Use the bagging approach in order to analyze this data. What\n",
    "#test MSE do you obtain? Use the importance() function to determine\n",
    "#which variables are most important.\n",
    "\n",
    "install.packages('randomForest')\n",
    "library('randomForest')"
   ]
  },
  {
   "cell_type": "code",
   "execution_count": 29,
   "metadata": {},
   "outputs": [
    {
     "data": {
      "text/html": [
       "2.65729621830957"
      ],
      "text/latex": [
       "2.65729621830957"
      ],
      "text/markdown": [
       "2.65729621830957"
      ],
      "text/plain": [
       "[1] 2.657296"
      ]
     },
     "metadata": {},
     "output_type": "display_data"
    }
   ],
   "source": [
    "bag.carseats = randomForest(Sales ~ ., data = Carseats.train, mtry = 10, ntree = 500, \n",
    "    importance = T)\n",
    "bag.pred = predict(bag.carseats, Carseats.test)\n",
    "mean((Carseats.test$Sales - bag.pred)^2)"
   ]
  },
  {
   "cell_type": "code",
   "execution_count": 30,
   "metadata": {},
   "outputs": [
    {
     "data": {
      "text/html": [
       "<table>\n",
       "<thead><tr><th></th><th scope=col>%IncMSE</th><th scope=col>IncNodePurity</th></tr></thead>\n",
       "<tbody>\n",
       "\t<tr><th scope=row>CompPrice</th><td>23.07909904</td><td>171.185734 </td></tr>\n",
       "\t<tr><th scope=row>Income</th><td> 2.82081527</td><td> 94.079825 </td></tr>\n",
       "\t<tr><th scope=row>Advertising</th><td>11.43295625</td><td> 99.098941 </td></tr>\n",
       "\t<tr><th scope=row>Population</th><td>-3.92119532</td><td> 59.818905 </td></tr>\n",
       "\t<tr><th scope=row>Price</th><td>54.24314632</td><td>505.887016 </td></tr>\n",
       "\t<tr><th scope=row>ShelveLoc</th><td>46.26912996</td><td>361.962753 </td></tr>\n",
       "\t<tr><th scope=row>Age</th><td>14.24992212</td><td>159.740422 </td></tr>\n",
       "\t<tr><th scope=row>Education</th><td>-0.07662320</td><td> 46.738585 </td></tr>\n",
       "\t<tr><th scope=row>Urban</th><td> 0.08530119</td><td>  8.453749 </td></tr>\n",
       "\t<tr><th scope=row>US</th><td> 4.34349223</td><td> 15.157608 </td></tr>\n",
       "</tbody>\n",
       "</table>\n"
      ],
      "text/latex": [
       "\\begin{tabular}{r|ll}\n",
       "  & \\%IncMSE & IncNodePurity\\\\\n",
       "\\hline\n",
       "\tCompPrice & 23.07909904 & 171.185734 \\\\\n",
       "\tIncome &  2.82081527 &  94.079825 \\\\\n",
       "\tAdvertising & 11.43295625 &  99.098941 \\\\\n",
       "\tPopulation & -3.92119532 &  59.818905 \\\\\n",
       "\tPrice & 54.24314632 & 505.887016 \\\\\n",
       "\tShelveLoc & 46.26912996 & 361.962753 \\\\\n",
       "\tAge & 14.24992212 & 159.740422 \\\\\n",
       "\tEducation & -0.07662320 &  46.738585 \\\\\n",
       "\tUrban &  0.08530119 &   8.453749 \\\\\n",
       "\tUS &  4.34349223 &  15.157608 \\\\\n",
       "\\end{tabular}\n"
      ],
      "text/markdown": [
       "\n",
       "| <!--/--> | %IncMSE | IncNodePurity |\n",
       "|---|---|---|\n",
       "| CompPrice | 23.07909904 | 171.185734  |\n",
       "| Income |  2.82081527 |  94.079825  |\n",
       "| Advertising | 11.43295625 |  99.098941  |\n",
       "| Population | -3.92119532 |  59.818905  |\n",
       "| Price | 54.24314632 | 505.887016  |\n",
       "| ShelveLoc | 46.26912996 | 361.962753  |\n",
       "| Age | 14.24992212 | 159.740422  |\n",
       "| Education | -0.07662320 |  46.738585  |\n",
       "| Urban |  0.08530119 |   8.453749  |\n",
       "| US |  4.34349223 |  15.157608  |\n",
       "\n"
      ],
      "text/plain": [
       "            %IncMSE     IncNodePurity\n",
       "CompPrice   23.07909904 171.185734   \n",
       "Income       2.82081527  94.079825   \n",
       "Advertising 11.43295625  99.098941   \n",
       "Population  -3.92119532  59.818905   \n",
       "Price       54.24314632 505.887016   \n",
       "ShelveLoc   46.26912996 361.962753   \n",
       "Age         14.24992212 159.740422   \n",
       "Education   -0.07662320  46.738585   \n",
       "Urban        0.08530119   8.453749   \n",
       "US           4.34349223  15.157608   "
      ]
     },
     "metadata": {},
     "output_type": "display_data"
    }
   ],
   "source": [
    "importance(bag.carseats)\n"
   ]
  },
  {
   "cell_type": "code",
   "execution_count": 31,
   "metadata": {},
   "outputs": [
    {
     "data": {
      "text/html": [
       "2.70166474672903"
      ],
      "text/latex": [
       "2.70166474672903"
      ],
      "text/markdown": [
       "2.70166474672903"
      ],
      "text/plain": [
       "[1] 2.701665"
      ]
     },
     "metadata": {},
     "output_type": "display_data"
    },
    {
     "data": {
      "text/html": [
       "<table>\n",
       "<thead><tr><th></th><th scope=col>%IncMSE</th><th scope=col>IncNodePurity</th></tr></thead>\n",
       "<tbody>\n",
       "\t<tr><th scope=row>CompPrice</th><td>19.8160444</td><td>162.73603 </td></tr>\n",
       "\t<tr><th scope=row>Income</th><td> 2.8940268</td><td>106.96093 </td></tr>\n",
       "\t<tr><th scope=row>Advertising</th><td>11.6799573</td><td>106.30923 </td></tr>\n",
       "\t<tr><th scope=row>Population</th><td>-1.6998805</td><td> 79.04937 </td></tr>\n",
       "\t<tr><th scope=row>Price</th><td>46.3454015</td><td>448.33554 </td></tr>\n",
       "\t<tr><th scope=row>ShelveLoc</th><td>40.4412189</td><td>334.33610 </td></tr>\n",
       "\t<tr><th scope=row>Age</th><td>12.5440659</td><td>169.06125 </td></tr>\n",
       "\t<tr><th scope=row>Education</th><td> 1.0762096</td><td> 55.87510 </td></tr>\n",
       "\t<tr><th scope=row>Urban</th><td> 0.5703583</td><td> 13.21963 </td></tr>\n",
       "\t<tr><th scope=row>US</th><td> 5.8799999</td><td> 25.59797 </td></tr>\n",
       "</tbody>\n",
       "</table>\n"
      ],
      "text/latex": [
       "\\begin{tabular}{r|ll}\n",
       "  & \\%IncMSE & IncNodePurity\\\\\n",
       "\\hline\n",
       "\tCompPrice & 19.8160444 & 162.73603 \\\\\n",
       "\tIncome &  2.8940268 & 106.96093 \\\\\n",
       "\tAdvertising & 11.6799573 & 106.30923 \\\\\n",
       "\tPopulation & -1.6998805 &  79.04937 \\\\\n",
       "\tPrice & 46.3454015 & 448.33554 \\\\\n",
       "\tShelveLoc & 40.4412189 & 334.33610 \\\\\n",
       "\tAge & 12.5440659 & 169.06125 \\\\\n",
       "\tEducation &  1.0762096 &  55.87510 \\\\\n",
       "\tUrban &  0.5703583 &  13.21963 \\\\\n",
       "\tUS &  5.8799999 &  25.59797 \\\\\n",
       "\\end{tabular}\n"
      ],
      "text/markdown": [
       "\n",
       "| <!--/--> | %IncMSE | IncNodePurity |\n",
       "|---|---|---|\n",
       "| CompPrice | 19.8160444 | 162.73603  |\n",
       "| Income |  2.8940268 | 106.96093  |\n",
       "| Advertising | 11.6799573 | 106.30923  |\n",
       "| Population | -1.6998805 |  79.04937  |\n",
       "| Price | 46.3454015 | 448.33554  |\n",
       "| ShelveLoc | 40.4412189 | 334.33610  |\n",
       "| Age | 12.5440659 | 169.06125  |\n",
       "| Education |  1.0762096 |  55.87510  |\n",
       "| Urban |  0.5703583 |  13.21963  |\n",
       "| US |  5.8799999 |  25.59797  |\n",
       "\n"
      ],
      "text/plain": [
       "            %IncMSE    IncNodePurity\n",
       "CompPrice   19.8160444 162.73603    \n",
       "Income       2.8940268 106.96093    \n",
       "Advertising 11.6799573 106.30923    \n",
       "Population  -1.6998805  79.04937    \n",
       "Price       46.3454015 448.33554    \n",
       "ShelveLoc   40.4412189 334.33610    \n",
       "Age         12.5440659 169.06125    \n",
       "Education    1.0762096  55.87510    \n",
       "Urban        0.5703583  13.21963    \n",
       "US           5.8799999  25.59797    "
      ]
     },
     "metadata": {},
     "output_type": "display_data"
    }
   ],
   "source": [
    "#E Use random forests to analyze this data. What test MSE do you\n",
    "#obtain? Use the importance() function to determine which variables\n",
    "#aremost important. Describe the effect of m, the number of\n",
    "#variables considered at each split, on the error rate\n",
    "#obtained.\n",
    "\n",
    "rf.carseats = randomForest(Sales ~ ., data = Carseats.train, mtry = 5, ntree = 500, \n",
    "    importance = T)\n",
    "rf.pred = predict(rf.carseats, Carseats.test)\n",
    "mean((Carseats.test$Sales - rf.pred)^2)\n",
    "importance(rf.carseats)"
   ]
  },
  {
   "cell_type": "markdown",
   "metadata": {},
   "source": [
    "#### random forests makes the mse worse; shelveloc and price are big predictors of sales"
   ]
  },
  {
   "cell_type": "markdown",
   "metadata": {},
   "source": [
    "### Question 9 This problem involves the OJ data set which is part of the ISLR\n",
    "### package."
   ]
  },
  {
   "cell_type": "code",
   "execution_count": 32,
   "metadata": {},
   "outputs": [],
   "source": [
    "#part a Create a training set containing a random sample of 800 observations,\n",
    "#and a test set containing the remaining observations.\n",
    "attach(OJ)\n",
    "set.seed(1013)\n",
    "\n",
    "train = sample(dim(OJ)[1], 800)\n",
    "OJ.train = OJ[train, ]\n",
    "OJ.test = OJ[-train, ]"
   ]
  },
  {
   "cell_type": "code",
   "execution_count": 33,
   "metadata": {},
   "outputs": [
    {
     "data": {
      "text/plain": [
       "\n",
       "Classification tree:\n",
       "tree(formula = Purchase ~ ., data = OJ.train)\n",
       "Variables actually used in tree construction:\n",
       "[1] \"LoyalCH\"       \"PriceDiff\"     \"ListPriceDiff\" \"SalePriceMM\"  \n",
       "Number of terminal nodes:  7 \n",
       "Residual mean deviance:  0.7564 = 599.8 / 793 \n",
       "Misclassification error rate: 0.1612 = 129 / 800 "
      ]
     },
     "metadata": {},
     "output_type": "display_data"
    }
   ],
   "source": [
    "#part b Fit a tree to the training data, with Purchase as the response\n",
    "#and the other variables as predictors. Use the summary() function\n",
    "#to produce summary statistics about the tree, and describe the\n",
    "#results obtained. What is the training error rate? How many\n",
    "#terminal nodes does the tree have?\n",
    "\n",
    "oj.tree = tree(Purchase ~ ., data = OJ.train)\n",
    "summary(oj.tree)"
   ]
  },
  {
   "cell_type": "code",
   "execution_count": 34,
   "metadata": {},
   "outputs": [
    {
     "data": {
      "text/plain": [
       "node), split, n, deviance, yval, (yprob)\n",
       "      * denotes terminal node\n",
       "\n",
       " 1) root 800 1069.00 CH ( 0.61125 0.38875 )  \n",
       "   2) LoyalCH < 0.5036 344  407.30 MM ( 0.27907 0.72093 )  \n",
       "     4) LoyalCH < 0.276142 163  121.40 MM ( 0.12270 0.87730 ) *\n",
       "     5) LoyalCH > 0.276142 181  246.30 MM ( 0.41989 0.58011 )  \n",
       "      10) PriceDiff < 0.065 75   75.06 MM ( 0.20000 0.80000 ) *\n",
       "      11) PriceDiff > 0.065 106  144.50 CH ( 0.57547 0.42453 ) *\n",
       "   3) LoyalCH > 0.5036 456  366.30 CH ( 0.86184 0.13816 )  \n",
       "     6) LoyalCH < 0.753545 189  224.30 CH ( 0.71958 0.28042 )  \n",
       "      12) ListPriceDiff < 0.235 79  109.40 MM ( 0.48101 0.51899 )  \n",
       "        24) SalePriceMM < 1.64 22   20.86 MM ( 0.18182 0.81818 ) *\n",
       "        25) SalePriceMM > 1.64 57   76.88 CH ( 0.59649 0.40351 ) *\n",
       "      13) ListPriceDiff > 0.235 110   75.81 CH ( 0.89091 0.10909 ) *\n",
       "     7) LoyalCH > 0.753545 267   85.31 CH ( 0.96255 0.03745 ) *"
      ]
     },
     "metadata": {},
     "output_type": "display_data"
    }
   ],
   "source": [
    "#part c\n",
    "oj.tree"
   ]
  },
  {
   "cell_type": "code",
   "execution_count": 35,
   "metadata": {},
   "outputs": [
    {
     "data": {
      "image/png": "[encoded data removed]",
      "text/plain": [
       "plot without title"
      ]
     },
     "metadata": {},
     "output_type": "display_data"
    }
   ],
   "source": [
    "#part d Create a plot of the tree, and interpret the results.\n",
    "plot(oj.tree)\n",
    "text(oj.tree, pretty = 0)"
   ]
  },
  {
   "cell_type": "code",
   "execution_count": 36,
   "metadata": {},
   "outputs": [
    {
     "data": {
      "text/plain": [
       "    oj.pred\n",
       "      CH  MM\n",
       "  CH 149  15\n",
       "  MM  30  76"
      ]
     },
     "metadata": {},
     "output_type": "display_data"
    }
   ],
   "source": [
    "# part e Predict the response on the test data, and produce a confusion\n",
    "#matrix comparing the test labels to the predicted test labels.\n",
    "#What is the test error rate?\n",
    "\n",
    "oj.pred = predict(oj.tree, OJ.test, type = \"class\")\n",
    "table(OJ.test$Purchase, oj.pred)"
   ]
  },
  {
   "cell_type": "code",
   "execution_count": 37,
   "metadata": {},
   "outputs": [],
   "source": [
    "# part f Apply the cv.tree() function to the training set in order to\n",
    "#determine the optimal tree size. \n",
    "cv.oj = cv.tree(oj.tree, FUN = prune.tree)"
   ]
  },
  {
   "cell_type": "code",
   "execution_count": 38,
   "metadata": {},
   "outputs": [
    {
     "data": {
      "image/png": "[encoded data removed]",
      "text/plain": [
       "plot without title"
      ]
     },
     "metadata": {},
     "output_type": "display_data"
    }
   ],
   "source": [
    "#g Produce a plot with tree size on the x-axis and cross-validated\n",
    "#classification error rate on the y-axis.\n",
    "plot(cv.oj$size, cv.oj$dev, type = \"b\", xlab = \"Tree Size\", ylab = \"Deviance\")"
   ]
  },
  {
   "cell_type": "code",
   "execution_count": 39,
   "metadata": {},
   "outputs": [],
   "source": [
    "#part h Which tree size corresponds to the lowest cross-validated classification\n",
    "#error rate?\n",
    "Size of 6 gives lowest cross-validation error.\n",
    "\n"
   ]
  },
  {
   "cell_type": "code",
   "execution_count": 40,
   "metadata": {},
   "outputs": [],
   "source": [
    "# part i Produce a pruned tree corresponding to the optimal tree size\n",
    "#obtained using cross-validation. If cross-validation does not lead\n",
    "#to selection of a pruned tree, then create a pruned tree with five\n",
    "#terminal nodes.\n",
    "oj.pruned = prune.tree(oj.tree, best = 6)\n"
   ]
  },
  {
   "cell_type": "code",
   "execution_count": 41,
   "metadata": {},
   "outputs": [
    {
     "data": {
      "text/plain": [
       "\n",
       "Classification tree:\n",
       "snip.tree(tree = oj.tree, nodes = 12L)\n",
       "Variables actually used in tree construction:\n",
       "[1] \"LoyalCH\"       \"PriceDiff\"     \"ListPriceDiff\"\n",
       "Number of terminal nodes:  6 \n",
       "Residual mean deviance:  0.7701 = 611.5 / 794 \n",
       "Misclassification error rate: 0.175 = 140 / 800 "
      ]
     },
     "metadata": {},
     "output_type": "display_data"
    }
   ],
   "source": [
    "#part j Compare the training error rates between the pruned and unpruned\n",
    "# trees. Which is higher?\n",
    "summary(oj.pruned)\n"
   ]
  },
  {
   "cell_type": "code",
   "execution_count": null,
   "metadata": {},
   "outputs": [],
   "source": [
    "#the pruned tree has a higher rate"
   ]
  },
  {
   "cell_type": "code",
   "execution_count": 42,
   "metadata": {},
   "outputs": [
    {
     "data": {
      "text/html": [
       "0.166666666666667"
      ],
      "text/latex": [
       "0.166666666666667"
      ],
      "text/markdown": [
       "0.166666666666667"
      ],
      "text/plain": [
       "[1] 0.1666667"
      ]
     },
     "metadata": {},
     "output_type": "display_data"
    }
   ],
   "source": [
    "#part k Compare the test error rates between the pruned and unpruned\n",
    "#trees. Which is higher?\n",
    "pred.unpruned = predict(oj.tree, OJ.test, type = \"class\")\n",
    "misclass.unpruned = sum(OJ.test$Purchase != pred.unpruned)\n",
    "misclass.unpruned/length(pred.unpruned)"
   ]
  },
  {
   "cell_type": "code",
   "execution_count": 43,
   "metadata": {},
   "outputs": [
    {
     "data": {
      "text/html": [
       "0.2"
      ],
      "text/latex": [
       "0.2"
      ],
      "text/markdown": [
       "0.2"
      ],
      "text/plain": [
       "[1] 0.2"
      ]
     },
     "metadata": {},
     "output_type": "display_data"
    }
   ],
   "source": [
    "pred.pruned = predict(oj.pruned, OJ.test, type = \"class\")\n",
    "misclass.pruned = sum(OJ.test$Purchase != pred.pruned)\n",
    "misclass.pruned/length(pred.pruned)"
   ]
  },
  {
   "cell_type": "markdown",
   "metadata": {},
   "source": [
    "#### unpruned has a better rate"
   ]
  },
  {
   "cell_type": "markdown",
   "metadata": {},
   "source": [
    "### Exercise 10 "
   ]
  },
  {
   "cell_type": "code",
   "execution_count": 45,
   "metadata": {},
   "outputs": [
    {
     "data": {
      "text/html": [
       "59"
      ],
      "text/latex": [
       "59"
      ],
      "text/markdown": [
       "59"
      ],
      "text/plain": [
       "[1] 59"
      ]
     },
     "metadata": {},
     "output_type": "display_data"
    },
    {
     "data": {
      "text/html": [
       "0"
      ],
      "text/latex": [
       "0"
      ],
      "text/markdown": [
       "0"
      ],
      "text/plain": [
       "[1] 0"
      ]
     },
     "metadata": {},
     "output_type": "display_data"
    }
   ],
   "source": [
    "#part a Remove the observations for whom the salary information is\n",
    "#unknown, and then log-transform the salaries.\n",
    "sum(is.na(Hitters$Salary))\n",
    "Hitters = Hitters[-which(is.na(Hitters$Salary)), ]\n",
    "sum(is.na(Hitters$Salary))"
   ]
  },
  {
   "cell_type": "code",
   "execution_count": 46,
   "metadata": {},
   "outputs": [],
   "source": [
    "#part b Create a training set consisting of the first 200 observations, and\n",
    "#a test set consisting of the remaining observations.\n",
    "train = 1:200\n",
    "Hitters.train = Hitters[train, ]\n",
    "Hitters.test = Hitters[-train, ]"
   ]
  },
  {
   "cell_type": "code",
   "execution_count": 49,
   "metadata": {},
   "outputs": [
    {
     "name": "stderr",
     "output_type": "stream",
     "text": [
      "Your code contains a unicode char which cannot be displayed in your\n",
      "current locale and R will silently convert it to an escaped form when the\n",
      "R kernel executes this code. This can lead to subtle errors if you use\n",
      "such chars to do comparisons. For more information, please see\n",
      "https://github.com/IRkernel/repr/wiki/Problems-with-unicode-on-windowsalso installing the dependencies 'Matrix', 'lattice', 'survival'\n",
      "\n"
     ]
    },
    {
     "name": "stdout",
     "output_type": "stream",
     "text": [
      "package 'Matrix' successfully unpacked and MD5 sums checked\n",
      "package 'lattice' successfully unpacked and MD5 sums checked\n",
      "package 'survival' successfully unpacked and MD5 sums checked\n",
      "package 'gbm' successfully unpacked and MD5 sums checked\n",
      "\n",
      "The downloaded binary packages are in\n",
      "\tC:\\Users\\Tholl\\AppData\\Local\\Temp\\RtmpuiDT2D\\downloaded_packages\n"
     ]
    },
    {
     "name": "stderr",
     "output_type": "stream",
     "text": [
      "Warning message:\n",
      "\"package 'gbm' was built under R version 3.6.3\"Loaded gbm 2.1.8\n"
     ]
    }
   ],
   "source": [
    "#part c Perform boosting on the training set with 1,000 trees for a range\n",
    "#of values of the shrinkage parameter λ. Produce a plot with\n",
    "#different shrinkage values on the x-axis and the corresponding\n",
    "#training set MSE on the y-axis.\n",
    "install.packages('gbm')\n",
    "library('gbm')"
   ]
  },
  {
   "cell_type": "code",
   "execution_count": 50,
   "metadata": {},
   "outputs": [
    {
     "data": {
      "image/png": "[encoded data removed]",
      "text/plain": [
       "plot without title"
      ]
     },
     "metadata": {},
     "output_type": "display_data"
    }
   ],
   "source": [
    "set.seed(103)\n",
    "pows = seq(-10, -0.2, by = 0.1)\n",
    "lambdas = 10^pows\n",
    "length.lambdas = length(lambdas)\n",
    "train.errors = rep(NA, length.lambdas)\n",
    "test.errors = rep(NA, length.lambdas)\n",
    "for (i in 1:length.lambdas) {\n",
    "    boost.hitters = gbm(Salary ~ ., data = Hitters.train, distribution = \"gaussian\", \n",
    "        n.trees = 1000, shrinkage = lambdas[i])\n",
    "    train.pred = predict(boost.hitters, Hitters.train, n.trees = 1000)\n",
    "    test.pred = predict(boost.hitters, Hitters.test, n.trees = 1000)\n",
    "    train.errors[i] = mean((Hitters.train$Salary - train.pred)^2)\n",
    "    test.errors[i] = mean((Hitters.test$Salary - test.pred)^2)\n",
    "}\n",
    "\n",
    "plot(lambdas, train.errors, type = \"b\", xlab = \"Shrinkage\", ylab = \"Train MSE\", \n",
    "    col = \"blue\", pch = 20)"
   ]
  },
  {
   "cell_type": "code",
   "execution_count": 51,
   "metadata": {},
   "outputs": [
    {
     "data": {
      "image/png": "[encoded data removed]",
      "text/plain": [
       "plot without title"
      ]
     },
     "metadata": {},
     "output_type": "display_data"
    }
   ],
   "source": [
    "#part d Produce a plot with different shrinkage values on the x-axis and\n",
    "# the corresponding test set MSE on the y-axis.\n",
    "plot(lambdas, test.errors, type = \"b\", xlab = \"Shrinkage\", ylab = \"Test MSE\", \n",
    "    col = \"red\", pch = 20)"
   ]
  },
  {
   "cell_type": "code",
   "execution_count": 52,
   "metadata": {},
   "outputs": [
    {
     "data": {
      "text/html": [
       "0.0199526231496888"
      ],
      "text/latex": [
       "0.0199526231496888"
      ],
      "text/markdown": [
       "0.0199526231496888"
      ],
      "text/plain": [
       "[1] 0.01995262"
      ]
     },
     "metadata": {},
     "output_type": "display_data"
    }
   ],
   "source": [
    "lambdas[which.min(test.errors)]"
   ]
  },
  {
   "cell_type": "code",
   "execution_count": 53,
   "metadata": {},
   "outputs": [
    {
     "data": {
      "text/html": [
       "124815.152547457"
      ],
      "text/latex": [
       "124815.152547457"
      ],
      "text/markdown": [
       "124815.152547457"
      ],
      "text/plain": [
       "[1] 124815.2"
      ]
     },
     "metadata": {},
     "output_type": "display_data"
    }
   ],
   "source": [
    "#part e Compare the test MSE of boosting to the test MSE that results\n",
    "#from applying two of the regression approaches seen in\n",
    "#Chapters 3 and 6.\n",
    "lm.fit = lm(Salary ~ ., data = Hitters.train)\n",
    "lm.pred = predict(lm.fit, Hitters.test)\n",
    "mean((Hitters.test$Salary - lm.pred)^2)"
   ]
  },
  {
   "cell_type": "code",
   "execution_count": 55,
   "metadata": {},
   "outputs": [
    {
     "name": "stderr",
     "output_type": "stream",
     "text": [
      "also installing the dependencies 'codetools', 'iterators', 'foreach', 'shape'\n",
      "\n"
     ]
    },
    {
     "name": "stdout",
     "output_type": "stream",
     "text": [
      "package 'codetools' successfully unpacked and MD5 sums checked\n",
      "package 'iterators' successfully unpacked and MD5 sums checked\n",
      "package 'foreach' successfully unpacked and MD5 sums checked\n",
      "package 'shape' successfully unpacked and MD5 sums checked\n",
      "package 'glmnet' successfully unpacked and MD5 sums checked\n",
      "\n",
      "The downloaded binary packages are in\n",
      "\tC:\\Users\\Tholl\\AppData\\Local\\Temp\\RtmpuiDT2D\\downloaded_packages\n"
     ]
    },
    {
     "name": "stderr",
     "output_type": "stream",
     "text": [
      "Warning message:\n",
      "\"package 'glmnet' was built under R version 3.6.3\"Loading required package: Matrix\n",
      "Warning message:\n",
      "\"package 'Matrix' was built under R version 3.6.3\"Loaded glmnet 4.1-1\n"
     ]
    }
   ],
   "source": [
    "install.packages('glmnet')\n",
    "library('glmnet')"
   ]
  },
  {
   "cell_type": "code",
   "execution_count": 56,
   "metadata": {},
   "outputs": [
    {
     "data": {
      "text/html": [
       "122285.000043277"
      ],
      "text/latex": [
       "122285.000043277"
      ],
      "text/markdown": [
       "122285.000043277"
      ],
      "text/plain": [
       "[1] 122285"
      ]
     },
     "metadata": {},
     "output_type": "display_data"
    }
   ],
   "source": [
    "set.seed(134)\n",
    "x = model.matrix(Salary ~ ., data = Hitters.train)\n",
    "y = Hitters.train$Salary\n",
    "x.test = model.matrix(Salary ~ ., data = Hitters.test)\n",
    "lasso.fit = glmnet(x, y, alpha = 1)\n",
    "lasso.pred = predict(lasso.fit, s = 0.01, newx = x.test)\n",
    "mean((Hitters.test$Salary - lasso.pred)^2)"
   ]
  },
  {
   "cell_type": "code",
   "execution_count": 57,
   "metadata": {},
   "outputs": [
    {
     "data": {
      "text/html": [
       "<table>\n",
       "<thead><tr><th></th><th scope=col>var</th><th scope=col>rel.inf</th></tr></thead>\n",
       "<tbody>\n",
       "\t<tr><th scope=row>CHmRun</th><td>CHmRun    </td><td>16.2464377</td></tr>\n",
       "\t<tr><th scope=row>Walks</th><td>Walks     </td><td>11.6816442</td></tr>\n",
       "\t<tr><th scope=row>CAtBat</th><td>CAtBat    </td><td> 9.9537777</td></tr>\n",
       "\t<tr><th scope=row>Years</th><td>Years     </td><td> 8.6510975</td></tr>\n",
       "\t<tr><th scope=row>Hits</th><td>Hits      </td><td> 8.6259821</td></tr>\n",
       "\t<tr><th scope=row>CRBI</th><td>CRBI      </td><td> 7.0184910</td></tr>\n",
       "\t<tr><th scope=row>PutOuts</th><td>PutOuts   </td><td> 6.4172370</td></tr>\n",
       "\t<tr><th scope=row>CWalks</th><td>CWalks    </td><td> 5.4451756</td></tr>\n",
       "\t<tr><th scope=row>RBI</th><td>RBI       </td><td> 5.2644794</td></tr>\n",
       "\t<tr><th scope=row>CHits</th><td>CHits     </td><td> 3.6809891</td></tr>\n",
       "\t<tr><th scope=row>AtBat</th><td>AtBat     </td><td> 2.8699489</td></tr>\n",
       "\t<tr><th scope=row>HmRun</th><td>HmRun     </td><td> 2.7874174</td></tr>\n",
       "\t<tr><th scope=row>CRuns</th><td>CRuns     </td><td> 2.7066622</td></tr>\n",
       "\t<tr><th scope=row>Assists</th><td>Assists   </td><td> 2.5190996</td></tr>\n",
       "\t<tr><th scope=row>Errors</th><td>Errors    </td><td> 2.5151030</td></tr>\n",
       "\t<tr><th scope=row>Division</th><td>Division  </td><td> 1.9650221</td></tr>\n",
       "\t<tr><th scope=row>Runs</th><td>Runs      </td><td> 1.1423270</td></tr>\n",
       "\t<tr><th scope=row>League</th><td>League    </td><td> 0.2773784</td></tr>\n",
       "\t<tr><th scope=row>NewLeague</th><td>NewLeague </td><td> 0.2317301</td></tr>\n",
       "</tbody>\n",
       "</table>\n"
      ],
      "text/latex": [
       "\\begin{tabular}{r|ll}\n",
       "  & var & rel.inf\\\\\n",
       "\\hline\n",
       "\tCHmRun & CHmRun     & 16.2464377\\\\\n",
       "\tWalks & Walks      & 11.6816442\\\\\n",
       "\tCAtBat & CAtBat     &  9.9537777\\\\\n",
       "\tYears & Years      &  8.6510975\\\\\n",
       "\tHits & Hits       &  8.6259821\\\\\n",
       "\tCRBI & CRBI       &  7.0184910\\\\\n",
       "\tPutOuts & PutOuts    &  6.4172370\\\\\n",
       "\tCWalks & CWalks     &  5.4451756\\\\\n",
       "\tRBI & RBI        &  5.2644794\\\\\n",
       "\tCHits & CHits      &  3.6809891\\\\\n",
       "\tAtBat & AtBat      &  2.8699489\\\\\n",
       "\tHmRun & HmRun      &  2.7874174\\\\\n",
       "\tCRuns & CRuns      &  2.7066622\\\\\n",
       "\tAssists & Assists    &  2.5190996\\\\\n",
       "\tErrors & Errors     &  2.5151030\\\\\n",
       "\tDivision & Division   &  1.9650221\\\\\n",
       "\tRuns & Runs       &  1.1423270\\\\\n",
       "\tLeague & League     &  0.2773784\\\\\n",
       "\tNewLeague & NewLeague  &  0.2317301\\\\\n",
       "\\end{tabular}\n"
      ],
      "text/markdown": [
       "\n",
       "| <!--/--> | var | rel.inf |\n",
       "|---|---|---|\n",
       "| CHmRun | CHmRun     | 16.2464377 |\n",
       "| Walks | Walks      | 11.6816442 |\n",
       "| CAtBat | CAtBat     |  9.9537777 |\n",
       "| Years | Years      |  8.6510975 |\n",
       "| Hits | Hits       |  8.6259821 |\n",
       "| CRBI | CRBI       |  7.0184910 |\n",
       "| PutOuts | PutOuts    |  6.4172370 |\n",
       "| CWalks | CWalks     |  5.4451756 |\n",
       "| RBI | RBI        |  5.2644794 |\n",
       "| CHits | CHits      |  3.6809891 |\n",
       "| AtBat | AtBat      |  2.8699489 |\n",
       "| HmRun | HmRun      |  2.7874174 |\n",
       "| CRuns | CRuns      |  2.7066622 |\n",
       "| Assists | Assists    |  2.5190996 |\n",
       "| Errors | Errors     |  2.5151030 |\n",
       "| Division | Division   |  1.9650221 |\n",
       "| Runs | Runs       |  1.1423270 |\n",
       "| League | League     |  0.2773784 |\n",
       "| NewLeague | NewLeague  |  0.2317301 |\n",
       "\n"
      ],
      "text/plain": [
       "          var       rel.inf   \n",
       "CHmRun    CHmRun    16.2464377\n",
       "Walks     Walks     11.6816442\n",
       "CAtBat    CAtBat     9.9537777\n",
       "Years     Years      8.6510975\n",
       "Hits      Hits       8.6259821\n",
       "CRBI      CRBI       7.0184910\n",
       "PutOuts   PutOuts    6.4172370\n",
       "CWalks    CWalks     5.4451756\n",
       "RBI       RBI        5.2644794\n",
       "CHits     CHits      3.6809891\n",
       "AtBat     AtBat      2.8699489\n",
       "HmRun     HmRun      2.7874174\n",
       "CRuns     CRuns      2.7066622\n",
       "Assists   Assists    2.5190996\n",
       "Errors    Errors     2.5151030\n",
       "Division  Division   1.9650221\n",
       "Runs      Runs       1.1423270\n",
       "League    League     0.2773784\n",
       "NewLeague NewLeague  0.2317301"
      ]
     },
     "metadata": {},
     "output_type": "display_data"
    },
    {
     "data": {
      "image/png": "[encoded data removed]",
      "text/plain": [
       "plot without title"
      ]
     },
     "metadata": {},
     "output_type": "display_data"
    }
   ],
   "source": [
    "#part f Which variables appear to be the most important predictors in\n",
    "#the boosted model?\n",
    "boost.best = gbm(Salary ~ ., data = Hitters.train, distribution = \"gaussian\", \n",
    "    n.trees = 1000, shrinkage = lambdas[which.min(test.errors)])\n",
    "summary(boost.best)\n",
    "\n",
    "#walks and at bat are most important"
   ]
  },
  {
   "cell_type": "code",
   "execution_count": 58,
   "metadata": {},
   "outputs": [
    {
     "data": {
      "text/html": [
       "54992.914820732"
      ],
      "text/latex": [
       "54992.914820732"
      ],
      "text/markdown": [
       "54992.914820732"
      ],
      "text/plain": [
       "[1] 54992.91"
      ]
     },
     "metadata": {},
     "output_type": "display_data"
    }
   ],
   "source": [
    "#part g Now apply bagging to the training set. What is the test set MSE\n",
    "#for this approach?\n",
    "set.seed(21)\n",
    "rf.hitters = randomForest(Salary ~ ., data = Hitters.train, ntree = 500, mtry = 19)\n",
    "rf.pred = predict(rf.hitters, Hitters.test)\n",
    "mean((Hitters.test$Salary - rf.pred)^2)"
   ]
  },
  {
   "cell_type": "code",
   "execution_count": null,
   "metadata": {},
   "outputs": [],
   "source": [
    "#not sure thats right?"
   ]
  },
  {
   "cell_type": "code",
   "execution_count": null,
   "metadata": {},
   "outputs": [],
   "source": []
  }
 ],
 "metadata": {
  "kernelspec": {
   "display_name": "R",
   "language": "R",
   "name": "ir"
  },
  "language_info": {
   "codemirror_mode": "r",
   "file_extension": ".r",
   "mimetype": "text/x-r-source",
   "name": "R",
   "pygments_lexer": "r",
   "version": "3.6.1"
  }
 },
 "nbformat": 4,
 "nbformat_minor": 4
}
